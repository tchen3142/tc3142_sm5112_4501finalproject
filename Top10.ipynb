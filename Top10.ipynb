{
 "cells": [
  {
   "cell_type": "code",
   "execution_count": 9,
   "id": "56c3ca6c",
   "metadata": {},
   "outputs": [
    {
     "data": {
      "text/plain": [
       "Complaint Type\n",
       "Noise - Helicopter                     2530\n",
       "Noise - Residential                    1340\n",
       "Noise                                   969\n",
       "Illegal Parking                         963\n",
       "Homeless Person Assistance              701\n",
       "Non-Emergency Police Matter             604\n",
       "HEAT/HOT WATER                          582\n",
       "Street Condition                        563\n",
       "NonCompliance with Phased Reopening     560\n",
       "Homeless Street Condition               445\n",
       "dtype: int64"
      ]
     },
     "execution_count": 9,
     "metadata": {},
     "output_type": "execute_result"
    }
   ],
   "source": [
    "import pandas as pd\n",
    "import numpy as np\n",
    "from collections import Counter\n",
    "\n",
    "# Question 1\n",
    "df = pd.read_csv(\"311_Service_Requests_2020.csv\")\n",
    "target_zip = 10016\n",
    "df_10016 = df.loc[df[\"Incident Zip\"] == target_zip]\n",
    "\n",
    "df_10016_grouped = df_10016.value_counts(\"Complaint Type\")\n",
    "top10 = df_10016_grouped.head(10)\n",
    "top10"
   ]
  },
  {
   "cell_type": "code",
   "execution_count": null,
   "id": "c7aa7820",
   "metadata": {},
   "outputs": [],
   "source": []
  },
  {
   "cell_type": "code",
   "execution_count": null,
   "id": "f70fa504",
   "metadata": {},
   "outputs": [],
   "source": []
  }
 ],
 "metadata": {
  "kernelspec": {
   "display_name": "Python 3 (ipykernel)",
   "language": "python",
   "name": "python3"
  },
  "language_info": {
   "codemirror_mode": {
    "name": "ipython",
    "version": 3
   },
   "file_extension": ".py",
   "mimetype": "text/x-python",
   "name": "python",
   "nbconvert_exporter": "python",
   "pygments_lexer": "ipython3",
   "version": "3.8.8"
  }
 },
 "nbformat": 4,
 "nbformat_minor": 5
}
