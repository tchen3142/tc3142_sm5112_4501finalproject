{
 "cells": [
  {
   "cell_type": "code",
   "execution_count": null,
   "metadata": {},
   "outputs": [],
   "source": [
    "import pandas as pd\n",
    "import numpy as np\n",
    "\n",
    "# Question 2\n",
    "df = pd.read_csv(\"311_Service_Requests_2020.csv\")\n",
    "\n",
    "## Total incident\n",
    "df_total_amt = df.count(\"Complaint Type\")\n",
    "df_parking = df.loc[df[\"Complaint Type\"] == \"Illegal Parking\"]\n",
    "df_parking_amt = df_parking.counts(\"Complaint Type\")\n",
    "\n",
    "## Target incident\n",
    "target_zip = 10016\n",
    "df_10016 = df.loc[df[\"Incident Zip\"] == target_zip]\n",
    "df_10016_toatl_amt = df_10016.count(\"Complaint Type\")\n",
    "df_10016_parking = df_10016.loc[df[\"Complaint Type\"] == \"Illegal Parking\"]\n",
    "df_10016_parking_amt = df_10016_parking_amt.counts(\"Complaint Type\")\n",
    "\n",
    "## Fraction\n",
    "df_fraction = df_parking_amt / df_total_amt\n",
    "df_10016_fraction = df_10016_parking_amt / df_10016_total_amt\n",
    "\n",
    "## Compare\n",
    "higher_parking_proportion = df_10016_fraction > df_fraction\n"
   ]
  },
  {
   "cell_type": "code",
   "execution_count": null,
   "metadata": {},
   "outputs": [],
   "source": []
  }
 ],
 "metadata": {
  "kernelspec": {
   "display_name": "Python 3",
   "language": "python",
   "name": "python3"
  },
  "language_info": {
   "codemirror_mode": {
    "name": "ipython",
    "version": 3
   },
   "file_extension": ".py",
   "mimetype": "text/x-python",
   "name": "python",
   "nbconvert_exporter": "python",
   "pygments_lexer": "ipython3",
   "version": "3.8.5"
  }
 },
 "nbformat": 4,
 "nbformat_minor": 4
}
