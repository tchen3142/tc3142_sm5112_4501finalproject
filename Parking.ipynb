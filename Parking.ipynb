{
 "cells": [
  {
   "cell_type": "code",
   "execution_count": 2,
   "metadata": {},
   "outputs": [
    {
     "name": "stderr",
     "output_type": "stream",
     "text": [
      "C:\\Users\\Shirley Mo\\anaconda3\\lib\\site-packages\\IPython\\core\\interactiveshell.py:3146: DtypeWarning: Columns (20,31,32) have mixed types.Specify dtype option on import or set low_memory=False.\n",
      "  has_raised = await self.run_ast_nodes(code_ast.body, cell_name,\n"
     ]
    },
    {
     "data": {
      "text/plain": [
       "False"
      ]
     },
     "execution_count": 2,
     "metadata": {},
     "output_type": "execute_result"
    }
   ],
   "source": [
    "import pandas as pd\n",
    "import numpy as np\n",
    "\n",
    "# Question 2\n",
    "df = pd.read_csv(\"311_Service_Requests_2020.csv\")\n",
    "\n",
    "## Total incident\n",
    "df_total_amt = len(df)\n",
    "df_parking = df.loc[df[\"Complaint Type\"] == \"Illegal Parking\"]\n",
    "df_parking_amt = len(df_parking)\n",
    "\n",
    "## Target incident\n",
    "target_zip = 10016\n",
    "df_10016 = df.loc[df[\"Incident Zip\"] == target_zip]\n",
    "df_10016_total_amt = len(df_10016)\n",
    "df_10016_parking = df_10016.loc[df_10016[\"Complaint Type\"] == \"Illegal Parking\"]\n",
    "df_10016_parking_amt = len(df_10016_parking)\n",
    "\n",
    "## Fraction\n",
    "df_fraction = df_parking_amt / df_total_amt\n",
    "df_10016_fraction = df_10016_parking_amt / df_10016_total_amt\n",
    "\n",
    "## Compare\n",
    "higher_parking_proportion = df_10016_fraction > df_fraction\n",
    "higher_parking_proportion"
   ]
  },
  {
   "cell_type": "code",
   "execution_count": null,
   "metadata": {},
   "outputs": [],
   "source": []
  },
  {
   "cell_type": "code",
   "execution_count": null,
   "metadata": {},
   "outputs": [],
   "source": []
  }
 ],
 "metadata": {
  "kernelspec": {
   "display_name": "Python 3",
   "language": "python",
   "name": "python3"
  },
  "language_info": {
   "codemirror_mode": {
    "name": "ipython",
    "version": 3
   },
   "file_extension": ".py",
   "mimetype": "text/x-python",
   "name": "python",
   "nbconvert_exporter": "python",
   "pygments_lexer": "ipython3",
   "version": "3.8.5"
  }
 },
 "nbformat": 4,
 "nbformat_minor": 4
}
